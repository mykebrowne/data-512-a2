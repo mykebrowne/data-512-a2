{
 "cells": [
  {
   "cell_type": "markdown",
   "metadata": {},
   "source": [
    "# hcds-a2-bias"
   ]
  },
  {
   "cell_type": "markdown",
   "metadata": {},
   "source": [
    "## Purpose "
   ]
  },
  {
   "cell_type": "markdown",
   "metadata": {},
   "source": [
    "This notebook details the steps needed to construct and analyze a dataset which details the articles on politicians of various countries together with the modelled quality of those articles as predicted by a machine learning system called __[ORES](https://www.mediawiki.org/wiki/ORES)__. It is divided into three sections:\n",
    "\n",
    "1. Data acquisition - collecting data from various sources \n",
    "2. Data processing - preparing the data in (1) for analysis \n",
    "3. Data analysis - visualizing the dataset created in (2) as a series of bar charts "
   ]
  },
  {
   "cell_type": "markdown",
   "metadata": {},
   "source": [
    "## 1. Data acquisition"
   ]
  },
  {
   "cell_type": "markdown",
   "metadata": {},
   "source": [
    "Three types of data were required for the analysis: \n",
    "\n",
    "1. Population data - A list of countries together with their mid-2015 populations was obtained from the __[Population Research Bureau website](http://www.prb.org/DataFinder/Topic/Rankings.aspx?ind=14)__ in the form of a csv file (__[Population Mid-2015.csv](http://www.prb.org/RawData.axd?ind=14&fmt=14&tf=76&loc=34235%2c249%2c250%2c251%2c252%2c253%2c254%2c34227%2c255%2c257%2c258%2c259%2c260%2c261%2c262%2c263%2c264%2c265%2c266%2c267%2c268%2c269%2c270%2c271%2c272%2c274%2c275%2c276%2c277%2c278%2c279%2c280%2c281%2c282%2c283%2c284%2c285%2c286%2c287%2c288%2c289%2c290%2c291%2c292%2c294%2c295%2c296%2c297%2c298%2c299%2c300%2c301%2c302%2c304%2c305%2c306%2c307%2c308%2c311%2c312%2c315%2c316%2c317%2c318%2c319%2c320%2c321%2c322%2c324%2c325%2c326%2c327%2c328%2c34234%2c329%2c330%2c331%2c332%2c333%2c334%2c336%2c337%2c338%2c339%2c340%2c342%2c343%2c344%2c345%2c346%2c347%2c348%2c349%2c350%2c351%2c352%2c353%2c354%2c358%2c359%2c360%2c361%2c362%2c363%2c364%2c365%2c366%2c367%2c368%2c369%2c370%2c371%2c372%2c373%2c374%2c375%2c377%2c378%2c379%2c380%2c381%2c382%2c383%2c384%2c385%2c386%2c387%2c388%2c389%2c390%2c392%2c393%2c394%2c395%2c396%2c397%2c398%2c399%2c400%2c401%2c402%2c404%2c405%2c406%2c407%2c408%2c409%2c410%2c411%2c415%2c416%2c417%2c418%2c419%2c420%2c421%2c422%2c423%2c424%2c425%2c427%2c428%2c429%2c430%2c431%2c432%2c433%2c434%2c435%2c437%2c438%2c439%2c440%2c441%2c442%2c443%2c444%2c445%2c446%2c448%2c449%2c450%2c451%2c452%2c453%2c454%2c455%2c456%2c457%2c458%2c459%2c460%2c461%2c462%2c464%2c465%2c466%2c467%2c468%2c469%2c470%2c471%2c472%2c473%2c474%2c475%2c476%2c477%2c478%2c479%2c480)__.  \n",
    "\n",
    "2. Article data - A dataset containing a list of English language Wikipedia articles on politicians mapped to the country of the politician, together with the revision id of the most recent edit to the article. This list was obtained from an existing project on __[Figshare](https://figshare.com/articles/Untitled_Item/5513449)__ in the form of a csv file (page_data.csv).  \n",
    "\n",
    "3. Article quality data - For each article in (2), a prediction of the quality of the article was obtained by calling the __[ORES API](https://ores.wikimedia.org/v3/#!/scoring/get_v3_scores_context_revid_model)__ and passing it three parameters:  i) context (the name of the Wikipedia project, in this case 'enwiki' for English language Wikipedia), ii) the revision id to score as detailed in (2) and iii) the scoring model, in this case wp10.   \n",
    "\n",
    "For example: https://ores.wikimedia.org/v3/scores/enwiki/235107991/wp10\n",
    "\n",
    "The API returns a JSON object with a key-value pair \"prediction\" and one of six quality values (in order of quality from best to worst): \n",
    " - FA     Featured article\n",
    " - GA     Good article\n",
    " - B      B-class article\n",
    " - C      C-class article \n",
    " - Start  Start-class article \n",
    " - Stub   Stub-class article \n",
    "\n",
    "Since steps (1) and (2) can be replicated simply by downloading the relevant csv files, this notebook provides only the code needed to produce (3).  "
   ]
  },
  {
   "cell_type": "markdown",
   "metadata": {},
   "source": [
    "### Article quality data"
   ]
  },
  {
   "cell_type": "markdown",
   "metadata": {},
   "source": [
    "#### a) Setup \n",
    "Loading packages and setting the working directory.   This assumes that the packages 'httr, 'jsonlite', 'data.table', 'plyr', 'dplyr', 'tidyr', 'stringr' and 'ggplot2' which are available from __[CRAN](https://cran.r-project.org/)__, have been installed.  "
   ]
  },
  {
   "cell_type": "code",
   "execution_count": null,
   "metadata": {},
   "outputs": [],
   "source": [
    "library (httr)\n",
    "library(jsonlite)\n",
    "library(data.table)\n",
    "library(plyr)\n",
    "library(dplyr)\n",
    "library(tidyr)\n",
    "library(stringr)\n",
    "library(ggplot2)"
   ]
  },
  {
   "cell_type": "markdown",
   "metadata": {},
   "source": [
    "#### b) Set the working directory \n",
    "Set the working directory to match the directory which contains the csv files:  page_data.csv and Population Mid-2015.csv as detailed in 1. Data acquisition. "
   ]
  },
  {
   "cell_type": "code",
   "execution_count": null,
   "metadata": {},
   "outputs": [],
   "source": [
    "wd <- \"/Users/MB/Desktop/DATA_512/Week 4/Assignment/\"       # specify working directory here \n",
    "setwd(wd)\n",
    "getwd()"
   ]
  },
  {
   "cell_type": "markdown",
   "metadata": {},
   "source": [
    "#### c) Read the page_data and Population Mid-2015 csv files into R"
   ]
  },
  {
   "cell_type": "code",
   "execution_count": 29,
   "metadata": {},
   "outputs": [
    {
     "data": {
      "text/html": [
       "<table>\n",
       "<thead><tr><th scope=col>page</th><th scope=col>country</th><th scope=col>rev_id</th></tr></thead>\n",
       "<tbody>\n",
       "\t<tr><td>Template:ZambiaProvincialMinisters</td><td>Zambia                            </td><td>235107991                         </td></tr>\n",
       "\t<tr><td>Bir I of Kanem                    </td><td>Chad                              </td><td>355319463                         </td></tr>\n",
       "\t<tr><td>Template:Zimbabwe-politician-stub </td><td>Zimbabwe                          </td><td>391862046                         </td></tr>\n",
       "\t<tr><td>Template:Uganda-politician-stub   </td><td>Uganda                            </td><td>391862070                         </td></tr>\n",
       "\t<tr><td>Template:Namibia-politician-stub  </td><td>Namibia                           </td><td>391862409                         </td></tr>\n",
       "\t<tr><td>Template:Nigeria-politician-stub  </td><td>Nigeria                           </td><td>391862819                         </td></tr>\n",
       "</tbody>\n",
       "</table>\n"
      ],
      "text/latex": [
       "\\begin{tabular}{r|lll}\n",
       " page & country & rev\\_id\\\\\n",
       "\\hline\n",
       "\t Template:ZambiaProvincialMinisters & Zambia                             & 235107991                         \\\\\n",
       "\t Bir I of Kanem                     & Chad                               & 355319463                         \\\\\n",
       "\t Template:Zimbabwe-politician-stub  & Zimbabwe                           & 391862046                         \\\\\n",
       "\t Template:Uganda-politician-stub    & Uganda                             & 391862070                         \\\\\n",
       "\t Template:Namibia-politician-stub   & Namibia                            & 391862409                         \\\\\n",
       "\t Template:Nigeria-politician-stub   & Nigeria                            & 391862819                         \\\\\n",
       "\\end{tabular}\n"
      ],
      "text/markdown": [
       "\n",
       "page | country | rev_id | \n",
       "|---|---|---|---|---|---|\n",
       "| Template:ZambiaProvincialMinisters | Zambia                             | 235107991                          | \n",
       "| Bir I of Kanem                     | Chad                               | 355319463                          | \n",
       "| Template:Zimbabwe-politician-stub  | Zimbabwe                           | 391862046                          | \n",
       "| Template:Uganda-politician-stub    | Uganda                             | 391862070                          | \n",
       "| Template:Namibia-politician-stub   | Namibia                            | 391862409                          | \n",
       "| Template:Nigeria-politician-stub   | Nigeria                            | 391862819                          | \n",
       "\n",
       "\n"
      ],
      "text/plain": [
       "  page                               country  rev_id   \n",
       "1 Template:ZambiaProvincialMinisters Zambia   235107991\n",
       "2 Bir I of Kanem                     Chad     355319463\n",
       "3 Template:Zimbabwe-politician-stub  Zimbabwe 391862046\n",
       "4 Template:Uganda-politician-stub    Uganda   391862070\n",
       "5 Template:Namibia-politician-stub   Namibia  391862409\n",
       "6 Template:Nigeria-politician-stub   Nigeria  391862819"
      ]
     },
     "metadata": {},
     "output_type": "display_data"
    }
   ],
   "source": [
    "page_data <-read.csv(file=\"page_data.csv\", header=TRUE, sep=\",\")\n",
    "population_data <-read.csv(file=\"Population Mid-2015.csv\", header=TRUE, sep=\",\")\n",
    "head(page_data)"
   ]
  },
  {
   "cell_type": "markdown",
   "metadata": {},
   "source": [
    "#### d) Get quality article assessment using ORES API \n",
    "Since the ORES API can only accept one revision id at a time, it is necessary to loop through each of the rev_ids in the third column of the page_data table created above.  A function, return_category, was created which takes a single rev_id as input and returns an object, edit_category, which contains the rev_id together with the quality_category.  Using lapply, this function was applied over all values in the rev_id column of the page_data table above. \n",
    "\n",
    "Note that due to the large number of API request it can take up to 5 hours to complete this step. "
   ]
  },
  {
   "cell_type": "code",
   "execution_count": null,
   "metadata": {},
   "outputs": [],
   "source": [
    "ores_api <- \"https://ores.wikimedia.org/v3/scores/enwiki/\"\n",
    "edit_id <- as.character(page_data[,3])\n",
    "model <- \"/wp10\"\n",
    "\n",
    "return_category <- function(last_edit) {\n",
    "  ores_url <- str_replace_all(paste(ores_api, last_edit, model), fixed(\" \"), \"\")\n",
    "  quality_estimate <- GET(ores_url)\n",
    "  quality_estimate.json <- jsonlite::fromJSON(toJSON(content(quality_estimate)))\n",
    "  quality_category <- unlist(quality_estimate.json)[[2]] \n",
    "  edit_category <- cbind(last_edit, quality_category)\n",
    "  return(edit_category)\n",
    "}\n",
    "\n",
    "edit_id_quality_list <- lapply(edit_id, return_category) "
   ]
  },
  {
   "cell_type": "markdown",
   "metadata": {},
   "source": [
    "Then in order to work with this object, it is necessary to convert it to a data.frame using the ldply function in the dplyr package. "
   ]
  },
  {
   "cell_type": "code",
   "execution_count": null,
   "metadata": {},
   "outputs": [],
   "source": [
    "edit_quality <- ldply(edit_id_quality_list, data.frame)"
   ]
  },
  {
   "cell_type": "markdown",
   "metadata": {},
   "source": [
    "The net result is a data.frame consisting of two columns:  last_edit (the revision_id of the last edit), quality_category (the predicted quality category of the article). "
   ]
  },
  {
   "cell_type": "markdown",
   "metadata": {},
   "source": [
    "## 2. Data processing "
   ]
  },
  {
   "cell_type": "markdown",
   "metadata": {},
   "source": [
    "During this step, a single csv file was created with the following columns: \n",
    " - country \n",
    " - article name\n",
    " - revision_id \n",
    " - article_quality \n",
    " - population \n",
    " \n",
    "In other words, for each article name in the original page_data.csv file, the article quality (as identified in Step 1) and the population of the country was appended.  Articles from countries which did not have a corresponding population value in the Population Mid-2015.csv dataset were removed as were articles which did not have a corresponding quality value. "
   ]
  },
  {
   "cell_type": "markdown",
   "metadata": {},
   "source": [
    "#### a) Prepare data.frames for merging\n",
    "To enable merging, new columns were created in the edit_quality data.frame from Step 2 d) and the page_data data.frame from Step 1. "
   ]
  },
  {
   "cell_type": "code",
   "execution_count": null,
   "metadata": {},
   "outputs": [],
   "source": [
    "edit_quality$last_edit_num <- as.numeric(as.character((edit_quality$last_edit)))\n",
    "\n",
    "page_data$last_edit_num <- as.numeric(as.character(page_data$rev_id))\n",
    "page_data$country <- as.character(page_data$country)"
   ]
  },
  {
   "cell_type": "markdown",
   "metadata": {},
   "source": [
    "#### b) Merge page_data and edit_quality on last_edit_num \n",
    "For each article in page_data, the article quality was appended (where this existed).  Any duplicates caused by the merge were removed. "
   ]
  },
  {
   "cell_type": "code",
   "execution_count": null,
   "metadata": {},
   "outputs": [],
   "source": [
    "page_data_quality_dupes <- inner_join(page_data, edit_quality, by= c(\"last_edit_num\" = \"last_edit_num\"))\n",
    "\n",
    "page_data_quality <- distinct(page_data_quality_dupes)\n",
    "rm(page_data_quality_dupes)"
   ]
  },
  {
   "cell_type": "markdown",
   "metadata": {},
   "source": [
    "#### c) Remove redundant columns in dataset created in b)"
   ]
  },
  {
   "cell_type": "code",
   "execution_count": null,
   "metadata": {},
   "outputs": [],
   "source": [
    "keep_columns <- c(\"country\", \"page\", \"last_edit_num\", \"quality_category\")\n",
    "page_data_quality <- subset(page_data_quality, select = keep_columns)\n",
    "page_data_quality$country <- as.character(page_data_quality$country)"
   ]
  },
  {
   "cell_type": "markdown",
   "metadata": {},
   "source": [
    "#### d) Prepare population dataset for merging\n",
    "To enable merging, a new dataset was created (country_population) which contained only two columns:  country and population."
   ]
  },
  {
   "cell_type": "code",
   "execution_count": null,
   "metadata": {},
   "outputs": [],
   "source": [
    "keep_columns2 <- c(\"Location\", \"Data\")\n",
    "country_population <- subset(population_data, select=keep_columns2)\n",
    "\n",
    "names(country_population)[1] <- \"country\"\n",
    "country_population$country <- as.character(country_population$country)\n",
    "country_population$Data <- as.character(country_population$Data)\n",
    "\n",
    "country_population$population <- as.numeric(str_replace_all(country_population$Data, fixed(\",\"), \"\"))\n",
    "country_population <- subset(country_population, select=c(\"country\", \"population\"))"
   ]
  },
  {
   "cell_type": "markdown",
   "metadata": {},
   "source": [
    "#### e) Merge country_population and page_data_quality on country \n",
    "For each article in page_data_quality, the country population was appended (where this existed in the country_population dataset). "
   ]
  },
  {
   "cell_type": "code",
   "execution_count": null,
   "metadata": {},
   "outputs": [],
   "source": [
    "page_quality_population <- inner_join(page_data_quality, country_population, by=c(\"country\" = \"country\"))"
   ]
  },
  {
   "cell_type": "markdown",
   "metadata": {},
   "source": [
    "#### f) Rename columns in page_quality_population"
   ]
  },
  {
   "cell_type": "code",
   "execution_count": null,
   "metadata": {},
   "outputs": [],
   "source": [
    "names(page_quality_population)[2] <- \"article_name\"\n",
    "names(page_quality_population)[3] <- \"revision_id\"\n",
    "names(page_quality_population)[4] <- \"article_quality\""
   ]
  },
  {
   "cell_type": "markdown",
   "metadata": {},
   "source": [
    "#### g) Export f) to csv without row names \n",
    "A csv file (page_quality_population.csv) was created with the columns as described above in 2. Data processing"
   ]
  },
  {
   "cell_type": "code",
   "execution_count": null,
   "metadata": {},
   "outputs": [],
   "source": [
    "write.csv(page_quality_population, file=\"page_quality_population.csv\", row.names=FALSE)"
   ]
  },
  {
   "cell_type": "markdown",
   "metadata": {},
   "source": [
    "## 3. Data analysis "
   ]
  },
  {
   "cell_type": "markdown",
   "metadata": {},
   "source": [
    "During this step, four visualizations (bar charts) were created which showed: \n",
    "\n",
    "1. The top 10 countries in terms of the number of politician articles as a proportion of country population.  \n",
    "2. The bottom 10 countries in terms of the number of politician articles as a proportion of country population.  \n",
    "3. The top 10 countries in terms of the proportion of articles which are high quality. \n",
    "4. The bottom 10 countries in terms of the proportion of articles which are high quality. \n",
    "\n",
    "For the purpose of this analysis, high quality articles were defined as those articles which were either:  FA (Featured article) or GA (Good article). "
   ]
  },
  {
   "cell_type": "markdown",
   "metadata": {},
   "source": [
    "#### a) Read page_quality_population.csv created in 2 g) into R and convert to a data.table "
   ]
  },
  {
   "cell_type": "code",
   "execution_count": 15,
   "metadata": {},
   "outputs": [
    {
     "data": {
      "text/html": [
       "<table>\n",
       "<thead><tr><th scope=col>country</th><th scope=col>article_name</th><th scope=col>revision_id</th><th scope=col>article_quality</th><th scope=col>population</th></tr></thead>\n",
       "<tbody>\n",
       "\t<tr><td>Zambia                            </td><td>Template:ZambiaProvincialMinisters</td><td>235107991                         </td><td>Stub                              </td><td> 15473900                         </td></tr>\n",
       "\t<tr><td>Chad                              </td><td>Bir I of Kanem                    </td><td>355319463                         </td><td>Stub                              </td><td> 13707000                         </td></tr>\n",
       "\t<tr><td>Zimbabwe                          </td><td>Template:Zimbabwe-politician-stub </td><td>391862046                         </td><td>Stub                              </td><td> 17354000                         </td></tr>\n",
       "\t<tr><td>Uganda                            </td><td>Template:Uganda-politician-stub   </td><td>391862070                         </td><td>Stub                              </td><td> 40141000                         </td></tr>\n",
       "\t<tr><td>Namibia                           </td><td>Template:Namibia-politician-stub  </td><td>391862409                         </td><td>Stub                              </td><td>  2482100                         </td></tr>\n",
       "\t<tr><td>Nigeria                           </td><td>Template:Nigeria-politician-stub  </td><td>391862819                         </td><td>Stub                              </td><td>181839400                         </td></tr>\n",
       "</tbody>\n",
       "</table>\n"
      ],
      "text/latex": [
       "\\begin{tabular}{r|lllll}\n",
       " country & article\\_name & revision\\_id & article\\_quality & population\\\\\n",
       "\\hline\n",
       "\t Zambia                             & Template:ZambiaProvincialMinisters & 235107991                          & Stub                               &  15473900                         \\\\\n",
       "\t Chad                               & Bir I of Kanem                     & 355319463                          & Stub                               &  13707000                         \\\\\n",
       "\t Zimbabwe                           & Template:Zimbabwe-politician-stub  & 391862046                          & Stub                               &  17354000                         \\\\\n",
       "\t Uganda                             & Template:Uganda-politician-stub    & 391862070                          & Stub                               &  40141000                         \\\\\n",
       "\t Namibia                            & Template:Namibia-politician-stub   & 391862409                          & Stub                               &   2482100                         \\\\\n",
       "\t Nigeria                            & Template:Nigeria-politician-stub   & 391862819                          & Stub                               & 181839400                         \\\\\n",
       "\\end{tabular}\n"
      ],
      "text/markdown": [
       "\n",
       "country | article_name | revision_id | article_quality | population | \n",
       "|---|---|---|---|---|---|\n",
       "| Zambia                             | Template:ZambiaProvincialMinisters | 235107991                          | Stub                               |  15473900                          | \n",
       "| Chad                               | Bir I of Kanem                     | 355319463                          | Stub                               |  13707000                          | \n",
       "| Zimbabwe                           | Template:Zimbabwe-politician-stub  | 391862046                          | Stub                               |  17354000                          | \n",
       "| Uganda                             | Template:Uganda-politician-stub    | 391862070                          | Stub                               |  40141000                          | \n",
       "| Namibia                            | Template:Namibia-politician-stub   | 391862409                          | Stub                               |   2482100                          | \n",
       "| Nigeria                            | Template:Nigeria-politician-stub   | 391862819                          | Stub                               | 181839400                          | \n",
       "\n",
       "\n"
      ],
      "text/plain": [
       "  country  article_name                       revision_id article_quality\n",
       "1 Zambia   Template:ZambiaProvincialMinisters 235107991   Stub           \n",
       "2 Chad     Bir I of Kanem                     355319463   Stub           \n",
       "3 Zimbabwe Template:Zimbabwe-politician-stub  391862046   Stub           \n",
       "4 Uganda   Template:Uganda-politician-stub    391862070   Stub           \n",
       "5 Namibia  Template:Namibia-politician-stub   391862409   Stub           \n",
       "6 Nigeria  Template:Nigeria-politician-stub   391862819   Stub           \n",
       "  population\n",
       "1  15473900 \n",
       "2  13707000 \n",
       "3  17354000 \n",
       "4  40141000 \n",
       "5   2482100 \n",
       "6 181839400 "
      ]
     },
     "metadata": {},
     "output_type": "display_data"
    }
   ],
   "source": [
    "page_quality_population <-read.csv(file=\"page_quality_population.csv\", header=TRUE, sep=\",\")\n",
    "head(page_quality_population) "
   ]
  },
  {
   "cell_type": "markdown",
   "metadata": {},
   "source": [
    "#### b) For each country in a), calculate number of articles and population"
   ]
  },
  {
   "cell_type": "code",
   "execution_count": 21,
   "metadata": {},
   "outputs": [
    {
     "data": {
      "text/html": [
       "<table>\n",
       "<thead><tr><th scope=col>country</th><th scope=col>count_article</th><th scope=col>population</th></tr></thead>\n",
       "<tbody>\n",
       "\t<tr><td>Zambia   </td><td> 26      </td><td> 15473900</td></tr>\n",
       "\t<tr><td>Chad     </td><td>100      </td><td> 13707000</td></tr>\n",
       "\t<tr><td>Zimbabwe </td><td>167      </td><td> 17354000</td></tr>\n",
       "\t<tr><td>Uganda   </td><td>188      </td><td> 40141000</td></tr>\n",
       "\t<tr><td>Namibia  </td><td>165      </td><td>  2482100</td></tr>\n",
       "\t<tr><td>Nigeria  </td><td>684      </td><td>181839400</td></tr>\n",
       "</tbody>\n",
       "</table>\n"
      ],
      "text/latex": [
       "\\begin{tabular}{r|lll}\n",
       " country & count\\_article & population\\\\\n",
       "\\hline\n",
       "\t Zambia    &  26       &  15473900\\\\\n",
       "\t Chad      & 100       &  13707000\\\\\n",
       "\t Zimbabwe  & 167       &  17354000\\\\\n",
       "\t Uganda    & 188       &  40141000\\\\\n",
       "\t Namibia   & 165       &   2482100\\\\\n",
       "\t Nigeria   & 684       & 181839400\\\\\n",
       "\\end{tabular}\n"
      ],
      "text/markdown": [
       "\n",
       "country | count_article | population | \n",
       "|---|---|---|---|---|---|\n",
       "| Zambia    |  26       |  15473900 | \n",
       "| Chad      | 100       |  13707000 | \n",
       "| Zimbabwe  | 167       |  17354000 | \n",
       "| Uganda    | 188       |  40141000 | \n",
       "| Namibia   | 165       |   2482100 | \n",
       "| Nigeria   | 684       | 181839400 | \n",
       "\n",
       "\n"
      ],
      "text/plain": [
       "  country  count_article population\n",
       "1 Zambia    26            15473900 \n",
       "2 Chad     100            13707000 \n",
       "3 Zimbabwe 167            17354000 \n",
       "4 Uganda   188            40141000 \n",
       "5 Namibia  165             2482100 \n",
       "6 Nigeria  684           181839400 "
      ]
     },
     "metadata": {},
     "output_type": "display_data"
    }
   ],
   "source": [
    "page_quality_population <- data.table(page_quality_population)\n",
    "country_articles <- summarise(group_by(page_quality_population, country), count_article = n(), population = mean(population))\n",
    "head(country_articles)"
   ]
  },
  {
   "cell_type": "markdown",
   "metadata": {},
   "source": [
    "#### c) For each country in a), calculate number of articles which are high quality (i.e. where the article quality is FA or GA."
   ]
  },
  {
   "cell_type": "code",
   "execution_count": 23,
   "metadata": {},
   "outputs": [],
   "source": [
    "country_high_quality <- (page_quality_population[article_quality %in% c(\"FA\", \"GA\"), .N, by=country])\n",
    "names(country_high_quality)[2] <- \"count_high_quality\" "
   ]
  },
  {
   "cell_type": "markdown",
   "metadata": {},
   "source": [
    "#### d) Merge country_articles and country_high_quality \n",
    "For each country in b), the count of high quality articles as identified in c) was appended.  Where the country did not have any high quality articles the NA value created by the merge was replaced with a zero. "
   ]
  },
  {
   "cell_type": "code",
   "execution_count": 25,
   "metadata": {},
   "outputs": [
    {
     "data": {
      "text/html": [
       "<table>\n",
       "<thead><tr><th scope=col>country</th><th scope=col>count_article</th><th scope=col>population</th><th scope=col>count_high_quality</th></tr></thead>\n",
       "<tbody>\n",
       "\t<tr><td>Zambia   </td><td> 26      </td><td> 15473900</td><td>0        </td></tr>\n",
       "\t<tr><td>Chad     </td><td>100      </td><td> 13707000</td><td>2        </td></tr>\n",
       "\t<tr><td>Zimbabwe </td><td>167      </td><td> 17354000</td><td>2        </td></tr>\n",
       "\t<tr><td>Uganda   </td><td>188      </td><td> 40141000</td><td>1        </td></tr>\n",
       "\t<tr><td>Namibia  </td><td>165      </td><td>  2482100</td><td>1        </td></tr>\n",
       "\t<tr><td>Nigeria  </td><td>684      </td><td>181839400</td><td>4        </td></tr>\n",
       "</tbody>\n",
       "</table>\n"
      ],
      "text/latex": [
       "\\begin{tabular}{r|llll}\n",
       " country & count\\_article & population & count\\_high\\_quality\\\\\n",
       "\\hline\n",
       "\t Zambia    &  26       &  15473900 & 0        \\\\\n",
       "\t Chad      & 100       &  13707000 & 2        \\\\\n",
       "\t Zimbabwe  & 167       &  17354000 & 2        \\\\\n",
       "\t Uganda    & 188       &  40141000 & 1        \\\\\n",
       "\t Namibia   & 165       &   2482100 & 1        \\\\\n",
       "\t Nigeria   & 684       & 181839400 & 4        \\\\\n",
       "\\end{tabular}\n"
      ],
      "text/markdown": [
       "\n",
       "country | count_article | population | count_high_quality | \n",
       "|---|---|---|---|---|---|\n",
       "| Zambia    |  26       |  15473900 | 0         | \n",
       "| Chad      | 100       |  13707000 | 2         | \n",
       "| Zimbabwe  | 167       |  17354000 | 2         | \n",
       "| Uganda    | 188       |  40141000 | 1         | \n",
       "| Namibia   | 165       |   2482100 | 1         | \n",
       "| Nigeria   | 684       | 181839400 | 4         | \n",
       "\n",
       "\n"
      ],
      "text/plain": [
       "  country  count_article population count_high_quality\n",
       "1 Zambia    26            15473900  0                 \n",
       "2 Chad     100            13707000  2                 \n",
       "3 Zimbabwe 167            17354000  2                 \n",
       "4 Uganda   188            40141000  1                 \n",
       "5 Namibia  165             2482100  1                 \n",
       "6 Nigeria  684           181839400  4                 "
      ]
     },
     "metadata": {},
     "output_type": "display_data"
    }
   ],
   "source": [
    "country_article_quality <- full_join(country_articles, country_high_quality, by=c(\"country\" = \"country\"))\n",
    "country_article_quality[(\"count_high_quality\")][is.na(country_article_quality[\"count_high_quality\"])] <- 0 \n",
    "head(country_article_quality)"
   ]
  },
  {
   "cell_type": "markdown",
   "metadata": {},
   "source": [
    "#### e) Calculate articles per 1000 population, proportion of articles which are high quality "
   ]
  },
  {
   "cell_type": "code",
   "execution_count": 26,
   "metadata": {},
   "outputs": [],
   "source": [
    "country_article_quality$articles_per_population <- ((country_article_quality$count_article)/(country_article_quality$population)*1000)\n",
    "country_article_quality$proportion_high_quality <- (country_article_quality$count_high_quality)/(country_article_quality$count_article)"
   ]
  },
  {
   "cell_type": "markdown",
   "metadata": {},
   "source": [
    "#### f) Identify top/bottom 10 countries in terms of the number of FA/GA articles as a proportion of all articles "
   ]
  },
  {
   "cell_type": "code",
   "execution_count": 27,
   "metadata": {},
   "outputs": [
    {
     "data": {
      "text/html": [
       "<table>\n",
       "<thead><tr><th scope=col>country</th><th scope=col>proportion_high_quality</th></tr></thead>\n",
       "<tbody>\n",
       "\t<tr><td>Korea, North            </td><td>0.23076923              </td></tr>\n",
       "\t<tr><td>Romania                 </td><td>0.12931034              </td></tr>\n",
       "\t<tr><td>Saudi Arabia            </td><td>0.12605042              </td></tr>\n",
       "\t<tr><td>Central African Republic</td><td>0.11764706              </td></tr>\n",
       "\t<tr><td>Qatar                   </td><td>0.09803922              </td></tr>\n",
       "\t<tr><td>Guinea-Bissau           </td><td>0.09523810              </td></tr>\n",
       "</tbody>\n",
       "</table>\n"
      ],
      "text/latex": [
       "\\begin{tabular}{r|ll}\n",
       " country & proportion\\_high\\_quality\\\\\n",
       "\\hline\n",
       "\t Korea, North             & 0.23076923              \\\\\n",
       "\t Romania                  & 0.12931034              \\\\\n",
       "\t Saudi Arabia             & 0.12605042              \\\\\n",
       "\t Central African Republic & 0.11764706              \\\\\n",
       "\t Qatar                    & 0.09803922              \\\\\n",
       "\t Guinea-Bissau            & 0.09523810              \\\\\n",
       "\\end{tabular}\n"
      ],
      "text/markdown": [
       "\n",
       "country | proportion_high_quality | \n",
       "|---|---|---|---|---|---|\n",
       "| Korea, North             | 0.23076923               | \n",
       "| Romania                  | 0.12931034               | \n",
       "| Saudi Arabia             | 0.12605042               | \n",
       "| Central African Republic | 0.11764706               | \n",
       "| Qatar                    | 0.09803922               | \n",
       "| Guinea-Bissau            | 0.09523810               | \n",
       "\n",
       "\n"
      ],
      "text/plain": [
       "  country                  proportion_high_quality\n",
       "1 Korea, North             0.23076923             \n",
       "2 Romania                  0.12931034             \n",
       "3 Saudi Arabia             0.12605042             \n",
       "4 Central African Republic 0.11764706             \n",
       "5 Qatar                    0.09803922             \n",
       "6 Guinea-Bissau            0.09523810             "
      ]
     },
     "metadata": {},
     "output_type": "display_data"
    },
    {
     "data": {
      "text/html": [
       "<table>\n",
       "<thead><tr><th scope=col>country</th><th scope=col>proportion_high_quality</th></tr></thead>\n",
       "<tbody>\n",
       "\t<tr><td>Zambia         </td><td>0              </td></tr>\n",
       "\t<tr><td>Solomon Islands</td><td>0              </td></tr>\n",
       "\t<tr><td>Nepal          </td><td>0              </td></tr>\n",
       "\t<tr><td>Tunisia        </td><td>0              </td></tr>\n",
       "\t<tr><td>Switzerland    </td><td>0              </td></tr>\n",
       "\t<tr><td>Belgium        </td><td>0              </td></tr>\n",
       "</tbody>\n",
       "</table>\n"
      ],
      "text/latex": [
       "\\begin{tabular}{r|ll}\n",
       " country & proportion\\_high\\_quality\\\\\n",
       "\\hline\n",
       "\t Zambia          & 0              \\\\\n",
       "\t Solomon Islands & 0              \\\\\n",
       "\t Nepal           & 0              \\\\\n",
       "\t Tunisia         & 0              \\\\\n",
       "\t Switzerland     & 0              \\\\\n",
       "\t Belgium         & 0              \\\\\n",
       "\\end{tabular}\n"
      ],
      "text/markdown": [
       "\n",
       "country | proportion_high_quality | \n",
       "|---|---|---|---|---|---|\n",
       "| Zambia          | 0               | \n",
       "| Solomon Islands | 0               | \n",
       "| Nepal           | 0               | \n",
       "| Tunisia         | 0               | \n",
       "| Switzerland     | 0               | \n",
       "| Belgium         | 0               | \n",
       "\n",
       "\n"
      ],
      "text/plain": [
       "  country         proportion_high_quality\n",
       "1 Zambia          0                      \n",
       "2 Solomon Islands 0                      \n",
       "3 Nepal           0                      \n",
       "4 Tunisia         0                      \n",
       "5 Switzerland     0                      \n",
       "6 Belgium         0                      "
      ]
     },
     "metadata": {},
     "output_type": "display_data"
    }
   ],
   "source": [
    "top10_quality <- subset(arrange(top_n(country_article_quality, 10, proportion_high_quality), desc(proportion_high_quality)), select=c(\"country\", \"proportion_high_quality\"))\n",
    "bottom10_quality <- subset(arrange(top_n(country_article_quality, 10, -proportion_high_quality), proportion_high_quality), select=c(\"country\", \"proportion_high_quality\"))\n",
    "\n",
    "head(top10_quality)\n",
    "head(bottom10_quality)"
   ]
  },
  {
   "cell_type": "markdown",
   "metadata": {},
   "source": [
    "#### g) Identify top/bottom 10 countries in terms of the number of articles as a proportion of country population"
   ]
  },
  {
   "cell_type": "code",
   "execution_count": 28,
   "metadata": {},
   "outputs": [
    {
     "data": {
      "text/html": [
       "<table>\n",
       "<thead><tr><th scope=col>country</th><th scope=col>articles_per_population</th></tr></thead>\n",
       "<tbody>\n",
       "\t<tr><td>Nauru           </td><td>4.8802947       </td></tr>\n",
       "\t<tr><td>Tuvalu          </td><td>4.6610169       </td></tr>\n",
       "\t<tr><td>San Marino      </td><td>2.4848485       </td></tr>\n",
       "\t<tr><td>Monaco          </td><td>1.0501995       </td></tr>\n",
       "\t<tr><td>Liechtenstein   </td><td>0.7718925       </td></tr>\n",
       "\t<tr><td>Marshall Islands</td><td>0.6727273       </td></tr>\n",
       "</tbody>\n",
       "</table>\n"
      ],
      "text/latex": [
       "\\begin{tabular}{r|ll}\n",
       " country & articles\\_per\\_population\\\\\n",
       "\\hline\n",
       "\t Nauru            & 4.8802947       \\\\\n",
       "\t Tuvalu           & 4.6610169       \\\\\n",
       "\t San Marino       & 2.4848485       \\\\\n",
       "\t Monaco           & 1.0501995       \\\\\n",
       "\t Liechtenstein    & 0.7718925       \\\\\n",
       "\t Marshall Islands & 0.6727273       \\\\\n",
       "\\end{tabular}\n"
      ],
      "text/markdown": [
       "\n",
       "country | articles_per_population | \n",
       "|---|---|---|---|---|---|\n",
       "| Nauru            | 4.8802947        | \n",
       "| Tuvalu           | 4.6610169        | \n",
       "| San Marino       | 2.4848485        | \n",
       "| Monaco           | 1.0501995        | \n",
       "| Liechtenstein    | 0.7718925        | \n",
       "| Marshall Islands | 0.6727273        | \n",
       "\n",
       "\n"
      ],
      "text/plain": [
       "  country          articles_per_population\n",
       "1 Nauru            4.8802947              \n",
       "2 Tuvalu           4.6610169              \n",
       "3 San Marino       2.4848485              \n",
       "4 Monaco           1.0501995              \n",
       "5 Liechtenstein    0.7718925              \n",
       "6 Marshall Islands 0.6727273              "
      ]
     },
     "metadata": {},
     "output_type": "display_data"
    },
    {
     "data": {
      "text/html": [
       "<table>\n",
       "<thead><tr><th scope=col>country</th><th scope=col>articles_per_population</th></tr></thead>\n",
       "<tbody>\n",
       "\t<tr><td>India       </td><td>0.0007541297</td></tr>\n",
       "\t<tr><td>China       </td><td>0.0008294944</td></tr>\n",
       "\t<tr><td>Indonesia   </td><td>0.0008406911</td></tr>\n",
       "\t<tr><td>Uzbekistan  </td><td>0.0009267902</td></tr>\n",
       "\t<tr><td>Ethiopia    </td><td>0.0010698129</td></tr>\n",
       "\t<tr><td>Korea, North</td><td>0.0015610615</td></tr>\n",
       "</tbody>\n",
       "</table>\n"
      ],
      "text/latex": [
       "\\begin{tabular}{r|ll}\n",
       " country & articles\\_per\\_population\\\\\n",
       "\\hline\n",
       "\t India        & 0.0007541297\\\\\n",
       "\t China        & 0.0008294944\\\\\n",
       "\t Indonesia    & 0.0008406911\\\\\n",
       "\t Uzbekistan   & 0.0009267902\\\\\n",
       "\t Ethiopia     & 0.0010698129\\\\\n",
       "\t Korea, North & 0.0015610615\\\\\n",
       "\\end{tabular}\n"
      ],
      "text/markdown": [
       "\n",
       "country | articles_per_population | \n",
       "|---|---|---|---|---|---|\n",
       "| India        | 0.0007541297 | \n",
       "| China        | 0.0008294944 | \n",
       "| Indonesia    | 0.0008406911 | \n",
       "| Uzbekistan   | 0.0009267902 | \n",
       "| Ethiopia     | 0.0010698129 | \n",
       "| Korea, North | 0.0015610615 | \n",
       "\n",
       "\n"
      ],
      "text/plain": [
       "  country      articles_per_population\n",
       "1 India        0.0007541297           \n",
       "2 China        0.0008294944           \n",
       "3 Indonesia    0.0008406911           \n",
       "4 Uzbekistan   0.0009267902           \n",
       "5 Ethiopia     0.0010698129           \n",
       "6 Korea, North 0.0015610615           "
      ]
     },
     "metadata": {},
     "output_type": "display_data"
    }
   ],
   "source": [
    "top10_articles <- subset(arrange(top_n(country_article_quality, 10, articles_per_population), desc(articles_per_population)), select=c(\"country\", \"articles_per_population\"))\n",
    "bottom10_articles <- subset(arrange(top_n(country_article_quality, 10, -articles_per_population), articles_per_population), select=c(\"country\", \"articles_per_population\"))\n",
    "\n",
    "head(top10_articles)\n",
    "head(bottom10_articles)"
   ]
  },
  {
   "cell_type": "markdown",
   "metadata": {},
   "source": [
    "#### h) Create bar charts representing top/bottom 10 countries as identified in f) and g)"
   ]
  },
  {
   "cell_type": "code",
   "execution_count": null,
   "metadata": {},
   "outputs": [],
   "source": [
    "top10_proportion_plot <- ggplot(top10_articles, aes(x=reorder(country, articles_per_population),  y=articles_per_population)) + geom_bar(stat='identity', fill=\"purple\") + coord_flip() + scale_y_continuous(expand=c(0,0), limits=c(0, 5)) + labs(title = \"Top 10 countries based on articles as a proportion of population\", x=\"Country\", y=\"Politician articles per 1000 population\") + theme(plot.title = element_text(size=12, hjust=1))\n",
    "\n",
    "bottom10_proportion_plot <- ggplot(bottom10_articles, aes(x=reorder(country, articles_per_population),  y=articles_per_population)) + geom_bar(stat='identity', fill=\"purple\") + coord_flip() + scale_y_continuous(expand=c(0,0), limits=c(0, 0.005)) + labs(title = \"Bottom 10 countries based on articles as a proportion of population\", x=\"Country\", y=\"Politician articles per 1000 population\") + theme(plot.title = element_text(size=12, hjust=1))\n",
    "\n",
    "top10_quality_plot <- ggplot(top10_quality, aes(x=reorder(country, proportion_high_quality),  y=proportion_high_quality)) + geom_bar(stat='identity', fill=\"purple\") + coord_flip() + scale_y_continuous(labels = scales::percent, expand=c(0,0), limits=c(0, 0.3)) + labs(title = \"Top 10 countries with highest proportion of high quality articles\", x=\"Country\", y=\"% politician articles which are high quality\") + theme(plot.title = element_text(size=12, hjust=1))\n",
    "\n",
    "bottom10_quality_plot <-ggplot(bottom10_quality, aes(x=reorder(country, proportion_high_quality),  y=proportion_high_quality)) + geom_bar(stat='identity', fill=\"purple\") + coord_flip() + scale_y_continuous(labels=scales::percent, expand=c(0,0), limits=c(0, 0.3)) + labs(title = \"Bottom 10 countries with highest proportion of high quality articles\", x=\"Country\", y=\"% politician articles which are high quality\") + theme(plot.title = element_text(size=12, hjust=1))"
   ]
  },
  {
   "cell_type": "markdown",
   "metadata": {},
   "source": [
    "#### i) Export charts to png "
   ]
  },
  {
   "cell_type": "code",
   "execution_count": null,
   "metadata": {},
   "outputs": [],
   "source": [
    "png(filename=\"top10_proportion_plot.png\")\n",
    "plot(top10_proportion_plot)\n",
    "dev.off() \n",
    "\n",
    "png(filename=\"bottom10_proportion_plot.png\")\n",
    "plot(bottom10_proportion_plot)\n",
    "dev.off() \n",
    "\n",
    "png(filename=\"top10_quality_plot.png\")\n",
    "plot(top10_quality_plot)\n",
    "dev.off() \n",
    "\n",
    "png(filename=\"bottom10_quality_plot.png\")\n",
    "plot(bottom10_quality_plot)\n",
    "dev.off() "
   ]
  },
  {
   "cell_type": "markdown",
   "metadata": {},
   "source": [
    "## END "
   ]
  }
 ],
 "metadata": {
  "kernelspec": {
   "display_name": "R",
   "language": "R",
   "name": "ir"
  },
  "language_info": {
   "codemirror_mode": "r",
   "file_extension": ".r",
   "mimetype": "text/x-r-source",
   "name": "R",
   "pygments_lexer": "r",
   "version": "3.2.4"
  }
 },
 "nbformat": 4,
 "nbformat_minor": 2
}
